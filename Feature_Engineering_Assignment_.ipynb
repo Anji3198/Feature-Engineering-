{
  "nbformat": 4,
  "nbformat_minor": 0,
  "metadata": {
    "colab": {
      "provenance": []
    },
    "kernelspec": {
      "name": "python3",
      "display_name": "Python 3"
    },
    "language_info": {
      "name": "python"
    }
  },
  "cells": [
    {
      "cell_type": "markdown",
      "source": [
        "1. What is a parameter?\n",
        "- A parameter refers to a configuration variable that is internal to the model and is learned from the training data."
      ],
      "metadata": {
        "id": "xU170449CWmu"
      }
    },
    {
      "cell_type": "markdown",
      "source": [
        "2. What is correlation?\n",
        "What does negative correlation mean?\n",
        "- Correlation is a statistical measure that describes the relationship between two variables. It tells us whether and how strongly pairs of variables are related.\n",
        "\n",
        "- **Negatve Correlation**\n",
        "\n",
        "   - A negative correlation means that as one variable increases, the other decreases. This indicates an inverse relationship.\n",
        "\n",
        "Examples:\n",
        "\n",
        "Temperature and heating bills: As temperature goes up, heating bills typically go down.\n",
        "\n",
        "Exercise and body fat percentage: More exercise tends to correlate with lower body fat."
      ],
      "metadata": {
        "id": "Lb_XXpNeKLEX"
      }
    },
    {
      "cell_type": "markdown",
      "source": [
        "3. Define Machine Learning. What are the main components in Machine Learning?\n",
        "- Machine Learning is a branch of Artificial Intelligence (AI) that focuses on building systems that can learn from and make decisions based on data, without being explicitly programmed for every task.\n",
        "- **Main components in Machine Learning**\n",
        " - Data : Raw information used to train the model\n",
        " - Features:\n",
        "    - Measurable properties or characteristics of the data (e.g., height, weight).\n",
        "\n",
        "    - Feature selection and engineering are critical to good performance.\n",
        "\n",
        "  - Model:\n",
        "   - The mathematical or computational structure that makes predictions.\n",
        "\n",
        "    - Examples: Decision Trees, Neural Networks, Support Vector Machines.\n",
        "  - Learning Algorithm\n",
        "  - Training\n",
        "  - Evaluation\n",
        "  - prediction/nterference\n",
        "  - Feedbak/ Optimization\n",
        "  "
      ],
      "metadata": {
        "id": "mMYJTmYaNb0a"
      }
    },
    {
      "cell_type": "markdown",
      "source": [
        "4. How does loss value help in determining whether the model is good or not?\n",
        "- The loss value is a key indicator of how well a machine learning model is performing during training. It measures the difference between the model’s prediction and the actual (true) value.\n",
        "\n"
      ],
      "metadata": {
        "id": "MAkW1XfKPvBd"
      }
    },
    {
      "cell_type": "markdown",
      "source": [
        "5. What are continuous and categorical variables?\n",
        "- **Continuous Variable**\n",
        " - Numerical Values that can take any value wuthin a range.\n",
        " - Examples: Height, weight, temp\n",
        " - Used for regression tasks.\n",
        "- **Categorical Variables**\n",
        "  -  Variable that represent categories or groups\n",
        "  -  Examples: Gender, color , country.\n",
        "  -  Used for classification tasks.\n"
      ],
      "metadata": {
        "id": "6R_rB1TvP7CV"
      }
    },
    {
      "cell_type": "markdown",
      "source": [
        "6. How do we handle categorical variables in Machine Learning? What are the common techniques?\n",
        "- Label Encoding\n",
        "   -  Simple\n",
        "   -  Implies Order\n",
        "- One - hot Encoding\n",
        "  - create binary columns for each category\n",
        "  - good for unordered categories\n",
        "  - can increase data size\n",
        "- Ordinal Encoding\n",
        "  - Assigns numbers based on category order\n",
        "  - for ordered categories (e.g. S < M < L)\n",
        "- Target Encoding\n",
        "  - replaces categories with average target values\n",
        "  - useful for many categories\n",
        "  - risk of overfitting\n",
        "- Frequency/ Count Encoding\n",
        "  - uses category frequency/count in the dataset\n",
        "  - simple\n",
        "  - may lose category meaning\n"
      ],
      "metadata": {
        "id": "1A8irgFHQ0zs"
      }
    },
    {
      "cell_type": "markdown",
      "source": [
        "7. What do you mean by training and testing a dataset?\n",
        "- **Training Dataset** : Used to teach the model by showing it input data and correct outputs.\n",
        "- **testing Dataset** : Used to evaluate the model's performance on unseen data after training."
      ],
      "metadata": {
        "id": "2b5NMKJ_Szmb"
      }
    },
    {
      "cell_type": "markdown",
      "source": [
        "8. What is sklearn.preprocessing?\n",
        "- It is a module in Scikit-learn used for data preprocessing — transforming raw data into a format suitable for machine learning.\n"
      ],
      "metadata": {
        "id": "9MTvB-2WTcSi"
      }
    },
    {
      "cell_type": "markdown",
      "source": [
        "9. What is a Test set?\n",
        "- A test set is a portion of the dataset kept aside and used to evaluate the performance of a trained machine learning model on new, unseen data.\n",
        "\n",
        "It checks how well the model generalizes beyond the training data.\n",
        "\n",
        "The model does not learn from this data; it only makes predictions to measure accuracy or other metrics."
      ],
      "metadata": {
        "id": "5FE7dHIpTwwD"
      }
    },
    {
      "cell_type": "markdown",
      "source": [
        "10. How do we split data for model fitting (training and testing) in Python?\n",
        "How do you approach a Machine Learning problem?\n",
        "- Use Scikit-learn's train_test_split:\n",
        "\n",
        "python\n",
        "Copy code\n",
        "from sklearn.model_selection import train_test_split\n",
        "\n",
        "X_train, X_test, y_train, y_test = train_test_split(X, y, test_size=0.2, random_state=42)\n",
        "test_size=0.2 → 80% train, 20% test\n",
        "\n",
        "random_state ensures reproducibility\n",
        "\n",
        "🤖 How to Approach a Machine Learning Problem\n",
        "Understand the Problem\n",
        "\n",
        "Collect & Explore Data (EDA)\n",
        "\n",
        "Preprocess Data (cleaning, encoding, scaling)\n",
        "\n",
        "Split Data (train/test)\n",
        "\n",
        "Choose & Train Model\n",
        "\n",
        "Evaluate Model\n",
        "\n",
        "Tune Hyperparameters\n",
        "\n",
        "Deploy & Monitor"
      ],
      "metadata": {
        "id": "DxrTKLYaUf-5"
      }
    },
    {
      "cell_type": "markdown",
      "source": [
        "11. Why do we have to perform EDA before fitting a model to the data?\n",
        "- Exploratory Data Analysis (EDA) helps you:\n",
        "\n",
        "    - Understand the data (structure, types, distributions)\n",
        "\n",
        "    - Detect missing values, outliers, and errors\n",
        "\n",
        "    - Identify patterns and relationships\n",
        "\n",
        "    - Choose the right preprocessing and model"
      ],
      "metadata": {
        "id": "H86EY9C9U-MM"
      }
    },
    {
      "cell_type": "markdown",
      "source": [
        "12. What is correlation?\n",
        "- Correlation is a statistical measure that describes the relationship between two variables. It tells us whether and how strongly pairs of variables are related."
      ],
      "metadata": {
        "id": "oezAJsFsWDEt"
      }
    },
    {
      "cell_type": "markdown",
      "source": [
        "13. What does negative correlation mean?\n",
        "- A negative correlation means that as one variable increases, the other decreases. This indicates an inverse relationship."
      ],
      "metadata": {
        "id": "i-b4-W4tWLpz"
      }
    },
    {
      "cell_type": "markdown",
      "source": [
        "14. How can you find correlation between variables in Python?\n",
        "- Use Pandas:\n",
        "\n",
        "```\n",
        "import pandas as pd\n",
        "\n",
        "df.corr()\n",
        "```\n",
        "Returns a correlation matrix between numerical columns.\n",
        "\n",
        "Use `df.corr(method='pearson')` by default.\n",
        "\n",
        "- Visualize with heatmap:\n",
        "\n",
        "\n",
        "\n",
        "```\n",
        "import seaborn as sns\n",
        "import matplotlib.pyplot as plt\n",
        "\n",
        "sns.heatmap(df.corr(), annot=True, cmap='coolwarm')\n",
        "plt.show()\n",
        "```\n",
        "\n",
        "Helps identify strong or weak relationships between variables.\n"
      ],
      "metadata": {
        "id": "mT9NchFQXC2i"
      }
    },
    {
      "cell_type": "markdown",
      "source": [
        "15. What is causation? Explain difference between correlation and causation ?\n",
        "- Causation means that one variable directly affects another.\n",
        "\n",
        "Example: More studying causes better grades.\n",
        "\n",
        "- Correation\n",
        "   - variables move together (not always related)\n",
        "   - example : Ice cream sales ↑, drowning cases ↑\n",
        "\n",
        "- Causation\n",
        "  - One variable directly influences another\n",
        "  - Smoking → causes lung disease\n",
        "\n",
        "  \n"
      ],
      "metadata": {
        "id": "aEqDlnMEXwAU"
      }
    },
    {
      "cell_type": "markdown",
      "source": [
        "16. What is an Optimizer? What are different types of optimizers? Explain each with an example.\n",
        "- An optimizer is an algorithm that adjusts model parameters (like weights) to minimize the loss function during training.\n",
        "- **Common types of Optimizers**\n",
        "  - SGD ( Stochastic Gradient Descent)\n",
        "  - Momentum\n",
        "  - Adagrad\n",
        "  - RMSprop\n",
        "  - ADAM (Adaptive Moment Estimation)"
      ],
      "metadata": {
        "id": "uY---LaCZBAm"
      }
    },
    {
      "cell_type": "markdown",
      "source": [
        "17. What is sklearn.linear_model ?\n",
        "- sklearn.linear_model is a module in scikit-learn that provides linear models for regression and classification tasks, such as:\n",
        "\n",
        "`LinearRegression` – for linear regression\n",
        "\n",
        "`LogisticRegression` – for classification\n",
        "\n",
        "`Ridge, Lasso` – for regularized regression"
      ],
      "metadata": {
        "id": "L_hTBK1OaIVz"
      }
    },
    {
      "cell_type": "markdown",
      "source": [
        "18. What does model.fit() do? What arguments must be given?\n",
        "- `model.fit()` trains the model on data.\n",
        "\n",
        "Required arguments:\n",
        "- X: Input features (e.g., a 2D array or DataFrame)\n",
        "\n",
        "- y: Target values (e.g., a 1D array or Series)\n",
        "\n",
        "Example:\n",
        "\n",
        "`model.fit(X, y)`\n",
        "It learns the relationship between X and y"
      ],
      "metadata": {
        "id": "NIyqDJ1Tdey0"
      }
    },
    {
      "cell_type": "markdown",
      "source": [
        "19. What does model.predict() do? What arguments must be given?\n",
        "- `model.predict()` makes predictions using the trained model.\n",
        "\n",
        "Required argument:\n",
        "- X: New input data (same shape/features as used in training)\n",
        "\n",
        "Example:\n",
        "\n",
        "`model.predict(X_new)`\n",
        "\n",
        "It returns the predicted values (e.g., labels or numbers)."
      ],
      "metadata": {
        "id": "myBn4bkEeHqJ"
      }
    },
    {
      "cell_type": "markdown",
      "source": [
        "20. What are continuous and categorical variables?\n",
        "- Continuous Variables\n",
        "   - Definition: Numeric values that can take any value within a range.\n",
        "\n",
        "   - Examples: Height, weight, temperature, income.\n",
        "\n",
        "   - Type: Typically float or int.\n",
        "\n",
        "- Categorical Variables\n",
        "  - Definition: Variables that represent categories or groups.\n",
        "\n",
        "  - Examples: Gender (male/female), color (red/blue), education level.\n",
        "\n",
        "  - Type: Often string or encoded as numbers.\n"
      ],
      "metadata": {
        "id": "SQT3wFzOe34M"
      }
    },
    {
      "cell_type": "markdown",
      "source": [
        "21. What is feature scaling? How does it help in Machine Learning?\n",
        "- Feature scaling adjusts feature values to a common scale.\n",
        "- **Helps in Machine Learning by:**\n",
        " - Making models converge faster\n",
        "\n",
        "  - Improving accuracy for models sensitive to scale (e.g., SVM, KNN)\n"
      ],
      "metadata": {
        "id": "8UU2CjBzfp7L"
      }
    },
    {
      "cell_type": "markdown",
      "source": [
        "22. How do we perform scaling in Python?\n",
        "- Standardization\n",
        "\n",
        "```\n",
        "from sklearn.preprocessing import StandardScaler\n",
        "\n",
        "scaler = StandardScaler()\n",
        "X_scaled = scaler.fit_transform(X)\n",
        "```\n",
        "\n",
        "- Normalization (Min-Max Scaling)\n",
        "\n",
        "\n",
        "\n",
        "```\n",
        "from sklearn.preprocessing import MinMaxScaler\n",
        "\n",
        "scaler = MinMaxScaler()\n",
        "X_scaled = scaler.fit_transform(X)\n",
        "```\n",
        "\n",
        "Both methods transform your feature data (X) to a scaled version (X_scaled) suitable for many ML models."
      ],
      "metadata": {
        "id": "OPWUqovTgZe3"
      }
    },
    {
      "cell_type": "markdown",
      "source": [
        "23. What is sklearn.preprocessing?\n",
        "- `sklearn.preprocessing` is a module in scikit-learn that provides tools to prepare and transform data before feeding it into machine learning models.\n",
        "\n",
        "- It includes functions and classes for:\n",
        "\n",
        "   - Feature scaling (e.g., `StandardScaler`, `MinMaxScale`r)\n",
        "\n",
        "  - Encoding categorical variables (e.g., `OneHotEncoder`, `LabelEncoder`)\n",
        "\n",
        "  -  Handling missing values\n",
        "\n",
        "  - Generating polynomial features\n",
        "\n",
        "  - Normalizing data"
      ],
      "metadata": {
        "id": "ChvRLoJUhc0y"
      }
    },
    {
      "cell_type": "markdown",
      "source": [
        "24. How do  we split data for model fitting (training and testing) in Python?\n",
        "- You use `train_test_split` from `sklearn.model_selection` to split data into training and testing sets.\n",
        "- Example:\n",
        "\n",
        "\n",
        "\n",
        "```\n",
        "from sklearn.model_selection import train_test_split\n",
        "\n",
        "X_train, X_test, y_train, y_test = train_test_split(X, y, test_size=0.2, random_state=42)\n",
        "\n",
        "```\n",
        "- X, y: your features and targets\n",
        "\n",
        "- test_size=0.2: 20% data for testing\n",
        "\n",
        "- random_state: for reproducible splits\n"
      ],
      "metadata": {
        "id": "uKbbIJexh9iB"
      }
    },
    {
      "cell_type": "markdown",
      "source": [
        "25. Explain data encoding?\n",
        "- Data encoding converts categorical data into numbers so models can process it.\n",
        "Common methods:\n",
        "\n",
        "    - Label Encoding: Categories → integers\n",
        "\n",
        "    - One-Hot Encoding: Categories → binary columns"
      ],
      "metadata": {
        "id": "s9UbbxnXjOJk"
      }
    }
  ]
}